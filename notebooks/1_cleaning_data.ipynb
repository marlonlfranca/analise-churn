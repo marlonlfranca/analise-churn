{
 "cells": [
  {
   "cell_type": "markdown",
   "id": "6fc8df5f-5403-4860-a05e-216d0215dc57",
   "metadata": {},
   "source": [
    "# Análise de Churn"
   ]
  },
  {
   "cell_type": "markdown",
   "id": "b7a939fa-323b-4afe-94a6-760b84ea87af",
   "metadata": {},
   "source": [
    "Vou criar um modelo de análise de Churn de um banco da região sul do Brasil. Serão buscadas possíveis tendências, desvios, padrões de comportamento e outros insights que favoreçam ao negócio, tanto na tomada de medidas para redução dos cancelamentos quanto no aumento da receita."
   ]
  },
  {
   "cell_type": "markdown",
   "id": "b2f9e51f-184d-41ae-941d-2b8592ec16c3",
   "metadata": {},
   "source": [
    "## Objetivo"
   ]
  },
  {
   "cell_type": "markdown",
   "id": "c69a0c3f-ccd5-41c4-bd47-482760da645b",
   "metadata": {},
   "source": [
    "O objetivo principal do modelo será prever os clientes com maior probabilidade de deixar o banco, para que hajam ações de contorno com esses clientes e o cancelamento possa ser revertido, senão, remediado."
   ]
  },
  {
   "cell_type": "markdown",
   "id": "ba1d5662-9b0a-4000-98f8-7875c91e8e22",
   "metadata": {},
   "source": [
    "## Limpeza e tratamento de dados"
   ]
  },
  {
   "cell_type": "markdown",
   "id": "78accfec-1f11-4a88-b9ea-f6a17b3cafe8",
   "metadata": {},
   "source": [
    "Vou utilizar os critérios abaixo na limpeza dos dados, onde buscarei validar e corrigir possíveis duplicidades, inconsistências, incompletudes e inconformidades nos dados.\n",
    "Com isso, vou garantir a integridade dos dados para criar um modelo com o mínimo enviesamento possível a partir da base disponível."
   ]
  },
  {
   "cell_type": "markdown",
   "id": "d0c0db10-f7a4-43f0-83d4-df11aebe1c8a",
   "metadata": {},
   "source": [
    "### 1.0 Importando bibliotecas"
   ]
  },
  {
   "cell_type": "code",
   "execution_count": 1,
   "id": "82bd2ba1-4d52-40bf-9aff-fa69e2a78bc9",
   "metadata": {},
   "outputs": [],
   "source": [
    "import pandas as pd\n",
    "import seaborn as sns\n",
    "import statistics as sts"
   ]
  },
  {
   "cell_type": "markdown",
   "id": "9564cb31-8348-416c-8076-50f0a52536d6",
   "metadata": {},
   "source": [
    "A biblioteca **pandas** será importada para tratar os dados de forma tabular, como um DataFrame (df).\n",
    "\n",
    "A biblioteca **seaborn** será importada para a visualização dos dados na etapa de exploração dos dados limpos.\n",
    "\n",
    "A biblioteca **statistics** será importada para alguns cálculos de distribuição e detecção de outliers."
   ]
  },
  {
   "cell_type": "markdown",
   "id": "262ddc08-fe14-4098-abd2-a106ec2e2dbd",
   "metadata": {},
   "source": [
    "### 1.1 Compreendendo o dataset"
   ]
  },
  {
   "cell_type": "markdown",
   "id": "34cd2843-679e-479a-a0c8-c72c73e24b1b",
   "metadata": {},
   "source": [
    "Para compreender o dataset, primeiramente preciso importá-lo, verificar tamanho e atributos. A partir daí, posso iniciar o tratamento das inconsistências encontradas. "
   ]
  },
  {
   "cell_type": "code",
   "execution_count": 2,
   "id": "d4da9074-89c4-41b9-a34c-147014beb062",
   "metadata": {},
   "outputs": [
    {
     "data": {
      "text/html": [
       "<div>\n",
       "<style scoped>\n",
       "    .dataframe tbody tr th:only-of-type {\n",
       "        vertical-align: middle;\n",
       "    }\n",
       "\n",
       "    .dataframe tbody tr th {\n",
       "        vertical-align: top;\n",
       "    }\n",
       "\n",
       "    .dataframe thead th {\n",
       "        text-align: right;\n",
       "    }\n",
       "</style>\n",
       "<table border=\"1\" class=\"dataframe\">\n",
       "  <thead>\n",
       "    <tr style=\"text-align: right;\">\n",
       "      <th></th>\n",
       "      <th>X0</th>\n",
       "      <th>X1</th>\n",
       "      <th>X2</th>\n",
       "      <th>X3</th>\n",
       "      <th>X4</th>\n",
       "      <th>X4.1</th>\n",
       "      <th>X6</th>\n",
       "      <th>X7</th>\n",
       "      <th>X8</th>\n",
       "      <th>X9</th>\n",
       "      <th>X10</th>\n",
       "      <th>X11</th>\n",
       "    </tr>\n",
       "  </thead>\n",
       "  <tbody>\n",
       "    <tr>\n",
       "      <th>0</th>\n",
       "      <td>1</td>\n",
       "      <td>619</td>\n",
       "      <td>RS</td>\n",
       "      <td>Feminino</td>\n",
       "      <td>42</td>\n",
       "      <td>2</td>\n",
       "      <td>0</td>\n",
       "      <td>1</td>\n",
       "      <td>1</td>\n",
       "      <td>1</td>\n",
       "      <td>10134888.0</td>\n",
       "      <td>1</td>\n",
       "    </tr>\n",
       "    <tr>\n",
       "      <th>1</th>\n",
       "      <td>2</td>\n",
       "      <td>608</td>\n",
       "      <td>SC</td>\n",
       "      <td>Feminino</td>\n",
       "      <td>41</td>\n",
       "      <td>1</td>\n",
       "      <td>8380786</td>\n",
       "      <td>1</td>\n",
       "      <td>0</td>\n",
       "      <td>1</td>\n",
       "      <td>11254258.0</td>\n",
       "      <td>0</td>\n",
       "    </tr>\n",
       "    <tr>\n",
       "      <th>2</th>\n",
       "      <td>3</td>\n",
       "      <td>502</td>\n",
       "      <td>RS</td>\n",
       "      <td>Feminino</td>\n",
       "      <td>42</td>\n",
       "      <td>8</td>\n",
       "      <td>1596608</td>\n",
       "      <td>3</td>\n",
       "      <td>1</td>\n",
       "      <td>0</td>\n",
       "      <td>11393157.0</td>\n",
       "      <td>1</td>\n",
       "    </tr>\n",
       "    <tr>\n",
       "      <th>3</th>\n",
       "      <td>4</td>\n",
       "      <td>699</td>\n",
       "      <td>RS</td>\n",
       "      <td>Feminino</td>\n",
       "      <td>39</td>\n",
       "      <td>1</td>\n",
       "      <td>0</td>\n",
       "      <td>2</td>\n",
       "      <td>0</td>\n",
       "      <td>0</td>\n",
       "      <td>9382663.0</td>\n",
       "      <td>0</td>\n",
       "    </tr>\n",
       "    <tr>\n",
       "      <th>4</th>\n",
       "      <td>5</td>\n",
       "      <td>850</td>\n",
       "      <td>SC</td>\n",
       "      <td>Feminino</td>\n",
       "      <td>43</td>\n",
       "      <td>2</td>\n",
       "      <td>12551082</td>\n",
       "      <td>1</td>\n",
       "      <td>1</td>\n",
       "      <td>1</td>\n",
       "      <td>790841.0</td>\n",
       "      <td>0</td>\n",
       "    </tr>\n",
       "  </tbody>\n",
       "</table>\n",
       "</div>"
      ],
      "text/plain": [
       "   X0   X1  X2        X3  X4  X4.1        X6  X7  X8  X9         X10  X11\n",
       "0   1  619  RS  Feminino  42     2         0   1   1   1  10134888.0    1\n",
       "1   2  608  SC  Feminino  41     1   8380786   1   0   1  11254258.0    0\n",
       "2   3  502  RS  Feminino  42     8   1596608   3   1   0  11393157.0    1\n",
       "3   4  699  RS  Feminino  39     1         0   2   0   0   9382663.0    0\n",
       "4   5  850  SC  Feminino  43     2  12551082   1   1   1    790841.0    0"
      ]
     },
     "execution_count": 2,
     "metadata": {},
     "output_type": "execute_result"
    }
   ],
   "source": [
    "# O dataset será importado e lido pelo Pandas como um DataFrame, a nomenclatura será df.\n",
    "df = pd.read_csv(\"Churn.csv\", sep=\";\")\n",
    "# Visualização dos dados importados\n",
    "df.head()"
   ]
  },
  {
   "cell_type": "markdown",
   "id": "9a1dfa23-20f5-4335-9f95-790f7ab99aa1",
   "metadata": {},
   "source": [
    "As colunas possuem nomes que não fazem sentido. Antes de analisar e tratar isso, quero entender o tamanho do dataset (linhas x colunas):"
   ]
  },
  {
   "cell_type": "code",
   "execution_count": 3,
   "id": "7342f542-74e8-4d29-8c6b-d0434dd33a6e",
   "metadata": {},
   "outputs": [
    {
     "data": {
      "text/plain": [
       "(999, 12)"
      ]
     },
     "execution_count": 3,
     "metadata": {},
     "output_type": "execute_result"
    }
   ],
   "source": [
    "df.shape"
   ]
  },
  {
   "cell_type": "markdown",
   "id": "bd8f878d-7e01-4239-99fa-1fa4f90eba4e",
   "metadata": {},
   "source": [
    "O dataset tem 999 linhas e 12 colunas."
   ]
  },
  {
   "cell_type": "markdown",
   "id": "c5776ab4-ee00-486f-9bac-9b06f69b96a8",
   "metadata": {},
   "source": [
    "### 1.2 Dicionário dos dados"
   ]
  },
  {
   "cell_type": "markdown",
   "id": "dc46b143-cf73-404b-bad6-1fda09f039e2",
   "metadata": {},
   "source": [
    "O banco forneceu o dicionário das colunas, :\n",
    "- id: Código de identificação de cada cliente.\n",
    "- score: Pontuação do cliente no sistema de crédito do banco, quanto maior, melhor.\n",
    "- estado: Estado (UF) da agência do cliente.\n",
    "- genero: Gênero do cliente (feminino, masculino).\n",
    "- idade: Idade do cliente.\n",
    "- patrimonio: Quantidade de patrimônios declarados pelo cliente.\n",
    "- saldo: Saldo na conta do cliente.\n",
    "- produtos: Produtos do banco adquiridos ou assinados pelo cliente.\n",
    "- temcartcredito: Possui cartão de crédito do banco (1 = sim, 0 = não).\n",
    "- ativo: Conta ativa no banco (1 = sim, 0 = não).\n",
    "- salario: Salário mensal do cliente, recebido no banco.\n",
    "- excliente: Cliente cancelou a conta (churn) (1 = sim, 0 = não)."
   ]
  },
  {
   "cell_type": "code",
   "execution_count": 4,
   "id": "0b98a5ca-d37d-404e-8d23-33240a3dd155",
   "metadata": {},
   "outputs": [
    {
     "data": {
      "text/html": [
       "<div>\n",
       "<style scoped>\n",
       "    .dataframe tbody tr th:only-of-type {\n",
       "        vertical-align: middle;\n",
       "    }\n",
       "\n",
       "    .dataframe tbody tr th {\n",
       "        vertical-align: top;\n",
       "    }\n",
       "\n",
       "    .dataframe thead th {\n",
       "        text-align: right;\n",
       "    }\n",
       "</style>\n",
       "<table border=\"1\" class=\"dataframe\">\n",
       "  <thead>\n",
       "    <tr style=\"text-align: right;\">\n",
       "      <th></th>\n",
       "      <th>id</th>\n",
       "      <th>score</th>\n",
       "      <th>estado</th>\n",
       "      <th>genero</th>\n",
       "      <th>idade</th>\n",
       "      <th>patrimonio</th>\n",
       "      <th>saldo</th>\n",
       "      <th>produtos</th>\n",
       "      <th>temcartcredito</th>\n",
       "      <th>ativo</th>\n",
       "      <th>salario</th>\n",
       "      <th>excliente</th>\n",
       "    </tr>\n",
       "  </thead>\n",
       "  <tbody>\n",
       "    <tr>\n",
       "      <th>0</th>\n",
       "      <td>1</td>\n",
       "      <td>619</td>\n",
       "      <td>RS</td>\n",
       "      <td>Feminino</td>\n",
       "      <td>42</td>\n",
       "      <td>2</td>\n",
       "      <td>0</td>\n",
       "      <td>1</td>\n",
       "      <td>1</td>\n",
       "      <td>1</td>\n",
       "      <td>10134888.0</td>\n",
       "      <td>1</td>\n",
       "    </tr>\n",
       "    <tr>\n",
       "      <th>1</th>\n",
       "      <td>2</td>\n",
       "      <td>608</td>\n",
       "      <td>SC</td>\n",
       "      <td>Feminino</td>\n",
       "      <td>41</td>\n",
       "      <td>1</td>\n",
       "      <td>8380786</td>\n",
       "      <td>1</td>\n",
       "      <td>0</td>\n",
       "      <td>1</td>\n",
       "      <td>11254258.0</td>\n",
       "      <td>0</td>\n",
       "    </tr>\n",
       "    <tr>\n",
       "      <th>2</th>\n",
       "      <td>3</td>\n",
       "      <td>502</td>\n",
       "      <td>RS</td>\n",
       "      <td>Feminino</td>\n",
       "      <td>42</td>\n",
       "      <td>8</td>\n",
       "      <td>1596608</td>\n",
       "      <td>3</td>\n",
       "      <td>1</td>\n",
       "      <td>0</td>\n",
       "      <td>11393157.0</td>\n",
       "      <td>1</td>\n",
       "    </tr>\n",
       "    <tr>\n",
       "      <th>3</th>\n",
       "      <td>4</td>\n",
       "      <td>699</td>\n",
       "      <td>RS</td>\n",
       "      <td>Feminino</td>\n",
       "      <td>39</td>\n",
       "      <td>1</td>\n",
       "      <td>0</td>\n",
       "      <td>2</td>\n",
       "      <td>0</td>\n",
       "      <td>0</td>\n",
       "      <td>9382663.0</td>\n",
       "      <td>0</td>\n",
       "    </tr>\n",
       "    <tr>\n",
       "      <th>4</th>\n",
       "      <td>5</td>\n",
       "      <td>850</td>\n",
       "      <td>SC</td>\n",
       "      <td>Feminino</td>\n",
       "      <td>43</td>\n",
       "      <td>2</td>\n",
       "      <td>12551082</td>\n",
       "      <td>1</td>\n",
       "      <td>1</td>\n",
       "      <td>1</td>\n",
       "      <td>790841.0</td>\n",
       "      <td>0</td>\n",
       "    </tr>\n",
       "  </tbody>\n",
       "</table>\n",
       "</div>"
      ],
      "text/plain": [
       "   id  score estado    genero  idade  patrimonio     saldo  produtos  \\\n",
       "0   1    619     RS  Feminino     42           2         0         1   \n",
       "1   2    608     SC  Feminino     41           1   8380786         1   \n",
       "2   3    502     RS  Feminino     42           8   1596608         3   \n",
       "3   4    699     RS  Feminino     39           1         0         2   \n",
       "4   5    850     SC  Feminino     43           2  12551082         1   \n",
       "\n",
       "   temcartcredito  ativo     salario  excliente  \n",
       "0               1      1  10134888.0          1  \n",
       "1               0      1  11254258.0          0  \n",
       "2               1      0  11393157.0          1  \n",
       "3               0      0   9382663.0          0  \n",
       "4               1      1    790841.0          0  "
      ]
     },
     "execution_count": 4,
     "metadata": {},
     "output_type": "execute_result"
    }
   ],
   "source": [
    "df.columns = [\"id\",\"score\",\"estado\",'genero','idade','patrimonio','saldo','produtos','temcartcredito','ativo','salario','excliente']\n",
    "df.head()"
   ]
  },
  {
   "cell_type": "markdown",
   "id": "f83698cc-6831-4ca3-98f9-04637a239629",
   "metadata": {},
   "source": [
    "Antes de continuar a limpeza, é preciso compreender qual o tipo de dado de cada coluna, para posteriormente tratar de forma separada os dados categóricos e numéricos.\n",
    "Para isso, será retornado o valor info() de todas as colunas."
   ]
  },
  {
   "cell_type": "markdown",
   "id": "6ccd2c3a-e578-40e1-b918-7cb463936b49",
   "metadata": {},
   "source": [
    "### 1.3 Exploração dos dados"
   ]
  },
  {
   "cell_type": "markdown",
   "id": "7fba4b48-c5cd-4167-8da6-2a4b70e96c18",
   "metadata": {},
   "source": [
    "Agora, vou avaliar as principais informações sobre os dados, desde os tipos, classes e possíveis problemas que vão exigir limpeza e tratamento. Este processo de conhecer e explorar os dados com os quais vou lidar, pode ser subestimado, porém, é de grande relevância e evitará muitos problemas futuros."
   ]
  },
  {
   "cell_type": "code",
   "execution_count": 5,
   "id": "41930ae6-6272-48f5-8625-584ac4d80309",
   "metadata": {},
   "outputs": [
    {
     "name": "stdout",
     "output_type": "stream",
     "text": [
      "<class 'pandas.core.frame.DataFrame'>\n",
      "RangeIndex: 999 entries, 0 to 998\n",
      "Data columns (total 12 columns):\n",
      " #   Column          Non-Null Count  Dtype  \n",
      "---  ------          --------------  -----  \n",
      " 0   id              999 non-null    int64  \n",
      " 1   score           999 non-null    int64  \n",
      " 2   estado          999 non-null    object \n",
      " 3   genero          991 non-null    object \n",
      " 4   idade           999 non-null    int64  \n",
      " 5   patrimonio      999 non-null    int64  \n",
      " 6   saldo           999 non-null    int64  \n",
      " 7   produtos        999 non-null    int64  \n",
      " 8   temcartcredito  999 non-null    int64  \n",
      " 9   ativo           999 non-null    int64  \n",
      " 10  salario         992 non-null    float64\n",
      " 11  excliente       999 non-null    int64  \n",
      "dtypes: float64(1), int64(9), object(2)\n",
      "memory usage: 93.8+ KB\n"
     ]
    }
   ],
   "source": [
    "df.info()"
   ]
  },
  {
   "cell_type": "markdown",
   "id": "f0f052f5-3b15-404b-b9d2-823204c6b621",
   "metadata": {},
   "source": [
    "Com as informações de classificação das colunas, a utilização dos dados será mais proveitosa desde a limpeza.\n",
    "\n",
    "**Colunas categóricas:** estado, genero.\n",
    "\n",
    "**Colunas numéricas:** id, score, idade, patrimonio, saldo, produtos, temcartcredito, ativo, salario, excliente.\n",
    "\n",
    "Todas as colunas numéricas têm propriedade _int64_(números inteiros), exceto a coluna salario, que possui valor _float64_(número decimal). Posteriormente isso será tratado.\n",
    "\n",
    "O tratamento será iniciado com as colunas categóricas."
   ]
  },
  {
   "cell_type": "code",
   "execution_count": 6,
   "id": "0a0fd53c-ada8-4a69-a6b2-53bf36484879",
   "metadata": {},
   "outputs": [
    {
     "name": "stdout",
     "output_type": "stream",
     "text": [
      "estado\n",
      "PR    257\n",
      "RP      1\n",
      "RS    478\n",
      "SC    258\n",
      "SP      4\n",
      "TD      1\n",
      "dtype: int64\n"
     ]
    },
    {
     "data": {
      "text/plain": [
       "<Axes: xlabel='estado'>"
      ]
     },
     "execution_count": 6,
     "metadata": {},
     "output_type": "execute_result"
    },
    {
     "data": {
      "image/png": "[encoded data removed]",
      "text/plain": [
       "<Figure size 640x480 with 1 Axes>"
      ]
     },
     "metadata": {},
     "output_type": "display_data"
    }
   ],
   "source": [
    "# Agrupamento dos dados da coluna estado:\n",
    "estado = df.groupby(['estado']).size()\n",
    "# Totais\n",
    "print(estado)\n",
    "# Visualização gráfica\n",
    "estado.plot.bar(color='teal')"
   ]
  },
  {
   "cell_type": "markdown",
   "id": "15afb0f1-28ae-4b8e-94ba-99c353772f7e",
   "metadata": {},
   "source": [
    "O primeiro problema encontrado é a **inconformidade** dos dados, pois \"PR\" (Paraná) aparentemente foi inserido errado pelo usuário na captação desse dado \"RP\". Além disso, a **integridade** também foi ferida, afinal, o estado TD não existe e o estado SP (São Paulo) não fica na região Sul do Brasil, mas sim no Sudeste.\n",
    "\n",
    "Agora, o mesmo processo será realizado com a coluna _genero_:"
   ]
  },
  {
   "cell_type": "code",
   "execution_count": 7,
   "id": "da6cc578-a4f5-42d0-9e91-24f6ee9f87dc",
   "metadata": {},
   "outputs": [
    {
     "name": "stdout",
     "output_type": "stream",
     "text": [
      "genero\n",
      "F              2\n",
      "Fem            1\n",
      "Feminino     461\n",
      "M              6\n",
      "Masculino    521\n",
      "dtype: int64\n"
     ]
    },
    {
     "data": {
      "text/plain": [
       "<Axes: xlabel='genero'>"
      ]
     },
     "execution_count": 7,
     "metadata": {},
     "output_type": "execute_result"
    },
    {
     "data": {
      "image/png": "[encoded data removed]",
      "text/plain": [
       "<Figure size 640x480 with 1 Axes>"
      ]
     },
     "metadata": {},
     "output_type": "display_data"
    }
   ],
   "source": [
    "# Agrupamento dos dados da coluna genero:\n",
    "genero = df.groupby(['genero']).size()\n",
    "# Totais\n",
    "print(genero)\n",
    "# Visualização gráfica\n",
    "genero.plot.bar(color='teal')"
   ]
  },
  {
   "cell_type": "markdown",
   "id": "8e068c20-ab53-49d2-94a6-8ddee012bbee",
   "metadata": {},
   "source": [
    "Também há inconformidade no preenchimento dos gêneros, \"Feminino\", \"F\" e \"Fem\" terão o mesmo valor para o modelo, assim como \"M\" e \"Masculino\". Isso também será tratado posteriormente.\n",
    "\n",
    "Agora, vou verificar as colunas numéricas:"
   ]
  },
  {
   "cell_type": "code",
   "execution_count": 8,
   "id": "7907cff9-d1a3-4838-b54f-ec2bc57bd736",
   "metadata": {},
   "outputs": [
    {
     "data": {
      "text/plain": [
       "count    999.000000\n",
       "mean     648.621622\n",
       "std       98.264219\n",
       "min      376.000000\n",
       "25%      580.000000\n",
       "50%      653.000000\n",
       "75%      721.000000\n",
       "max      850.000000\n",
       "Name: score, dtype: float64"
      ]
     },
     "execution_count": 8,
     "metadata": {},
     "output_type": "execute_result"
    }
   ],
   "source": [
    "# Descrição\n",
    "df['score'].describe()"
   ]
  },
  {
   "cell_type": "markdown",
   "id": "262b49ec-e54c-406e-b5af-fa1fd3d20bd8",
   "metadata": {},
   "source": [
    "- Não há nenhum score negativo, portanto, nenhuma entrada errada deste tipo foi capturada pelo banco.\n",
    "- A menor pontuação existente é 376 pontos, a maior, 850 pontos.\n",
    "- Tratando-se de muitos dados, quanto mais próximos os valores de média e mediana, menor a probabilidade de outliers no dataset. Isso não vale para este dataset pela quantidade bastante limitada de dados.\n",
    "\n",
    "**Observação!**\n",
    "\n",
    "Q1, Q2 e Q3 se referem a quartil 1, quartil 2 e quartil 3, que correspondem, respectivamente, a 25%, 50% e 75% do conjunto de dados.\n",
    "\n",
    "_Um quartil é qualquer um dos três valores que divide o conjunto de dados em quatro partes iguais, e assim cada parte representa 1/4 da amostra ou população._"
   ]
  },
  {
   "cell_type": "code",
   "execution_count": 9,
   "id": "499ac4e9-b01d-43cc-9535-afc214b8cf53",
   "metadata": {},
   "outputs": [
    {
     "data": {
      "text/plain": [
       "<Axes: xlabel='score'>"
      ]
     },
     "execution_count": 9,
     "metadata": {},
     "output_type": "execute_result"
    },
    {
     "data": {
      "image/png": "[encoded data removed]",
      "text/plain": [
       "<Figure size 640x480 with 1 Axes>"
      ]
     },
     "metadata": {},
     "output_type": "display_data"
    }
   ],
   "source": [
    "# Visualização gráfica\n",
    "sns.boxplot(df['score'], color = 'teal', orient='h')"
   ]
  },
  {
   "cell_type": "markdown",
   "id": "95296958-05d3-4279-ad8a-e8c33aecd89d",
   "metadata": {},
   "source": [
    "- A média (mean - average) é 648 pontos.\n",
    "- A mediana (50%) é 653 pontos.\n",
    "- Q1 = 376 <> 580\n",
    "- Q2 = 581 <> 653\n",
    "- Q3 = 654 <> 721"
   ]
  },
  {
   "cell_type": "code",
   "execution_count": 10,
   "id": "8d0c0a31-3f09-467c-baf0-0fbc9e42c811",
   "metadata": {},
   "outputs": [
    {
     "data": {
      "text/plain": [
       "<Axes: xlabel='score', ylabel='Count'>"
      ]
     },
     "execution_count": 10,
     "metadata": {},
     "output_type": "execute_result"
    },
    {
     "data": {
      "image/png": "[encoded data removed]",
      "text/plain": [
       "<Figure size 640x480 with 1 Axes>"
      ]
     },
     "metadata": {},
     "output_type": "display_data"
    }
   ],
   "source": [
    "sns.histplot(df['score'], color = 'teal', kde=True)"
   ]
  },
  {
   "cell_type": "markdown",
   "id": "c754640a-dbe3-497d-ad8b-94c32c0390e4",
   "metadata": {},
   "source": [
    "- Há uma distribuição regular entre os dados, pois nenhuma anomalia foi observada.\n",
    "\n",
    "Agora, vou visualizar as informações da coluna idade:"
   ]
  },
  {
   "cell_type": "code",
   "execution_count": 11,
   "id": "b5247a9c-2d0c-44bc-99ae-09005c6abf06",
   "metadata": {},
   "outputs": [
    {
     "data": {
      "text/plain": [
       "count    999.000000\n",
       "mean      38.902903\n",
       "std       11.401912\n",
       "min      -20.000000\n",
       "25%       32.000000\n",
       "50%       37.000000\n",
       "75%       44.000000\n",
       "max      140.000000\n",
       "Name: idade, dtype: float64"
      ]
     },
     "execution_count": 11,
     "metadata": {},
     "output_type": "execute_result"
    }
   ],
   "source": [
    "# Descrição\n",
    "df['idade'].describe()"
   ]
  },
  {
   "cell_type": "markdown",
   "id": "ec999e92-ab93-49fe-9d32-12c17f9f6343",
   "metadata": {},
   "source": [
    "Vamos presumir que a idade deve variar entre 0 e 120.\n",
    "\n",
    "- Considerando que 0<idade<120, existem diversos outliers que precisarão ser tratados."
   ]
  },
  {
   "cell_type": "code",
   "execution_count": 12,
   "id": "67e7f12b-bff7-4234-89b0-07a9ac19beed",
   "metadata": {},
   "outputs": [
    {
     "data": {
      "text/plain": [
       "<Axes: xlabel='idade'>"
      ]
     },
     "execution_count": 12,
     "metadata": {},
     "output_type": "execute_result"
    },
    {
     "data": {
      "image/png": "[encoded data removed]",
      "text/plain": [
       "<Figure size 640x480 with 1 Axes>"
      ]
     },
     "metadata": {},
     "output_type": "display_data"
    }
   ],
   "source": [
    "# Visualização gráfica\n",
    "sns.boxplot(df['idade'], color = 'teal', orient='h')"
   ]
  },
  {
   "cell_type": "markdown",
   "id": "a79be584-974b-49dc-9338-3307d3b4f473",
   "metadata": {},
   "source": [
    "- Com o bloxplot, é notável a presença de inconformidades que precisarão ser analisadas e corrigidas."
   ]
  },
  {
   "cell_type": "code",
   "execution_count": 13,
   "id": "faefc280-d54a-4239-9168-d6fd6454db45",
   "metadata": {},
   "outputs": [
    {
     "data": {
      "text/plain": [
       "<Axes: xlabel='idade', ylabel='Count'>"
      ]
     },
     "execution_count": 13,
     "metadata": {},
     "output_type": "execute_result"
    },
    {
     "data": {
      "image/png": "[encoded data removed]",
      "text/plain": [
       "<Figure size 640x480 with 1 Axes>"
      ]
     },
     "metadata": {},
     "output_type": "display_data"
    }
   ],
   "source": [
    "sns.histplot(df['idade'], color = 'teal', kde=True)"
   ]
  },
  {
   "cell_type": "markdown",
   "id": "ec7cf8a5-186d-448c-a50c-f600b35c7e9e",
   "metadata": {},
   "source": [
    "- Apesar dos outliers, a distribuição das idades não foge da normalidade nas faixas entre 18 e 80 anos.\n",
    "\n",
    "Agora, o processo será repetido para a coluna saldo:"
   ]
  },
  {
   "cell_type": "code",
   "execution_count": 14,
   "id": "0cde64b5-e0d5-4d94-97b6-8e6f15eebd6e",
   "metadata": {},
   "outputs": [
    {
     "data": {
      "text/plain": [
       "count    9.990000e+02\n",
       "mean     7.164928e+06\n",
       "std      6.311840e+06\n",
       "min      0.000000e+00\n",
       "25%      0.000000e+00\n",
       "50%      8.958835e+06\n",
       "75%      1.258684e+07\n",
       "max      2.117743e+07\n",
       "Name: saldo, dtype: float64"
      ]
     },
     "execution_count": 14,
     "metadata": {},
     "output_type": "execute_result"
    }
   ],
   "source": [
    "# Descrição\n",
    "df['saldo'].describe()"
   ]
  },
  {
   "cell_type": "markdown",
   "id": "eba12fab-6d04-4751-95c5-faff7e00aa90",
   "metadata": {},
   "source": [
    "- Muitos clientes com saldo 0, essa anomalia precisará ser investigada."
   ]
  },
  {
   "cell_type": "code",
   "execution_count": 15,
   "id": "a6970452-cff0-48f7-b9aa-23a78622a92e",
   "metadata": {},
   "outputs": [
    {
     "data": {
      "text/plain": [
       "<Axes: xlabel='saldo'>"
      ]
     },
     "execution_count": 15,
     "metadata": {},
     "output_type": "execute_result"
    },
    {
     "data": {
      "image/png": "[encoded data removed]",
      "text/plain": [
       "<Figure size 640x480 with 1 Axes>"
      ]
     },
     "metadata": {},
     "output_type": "display_data"
    }
   ],
   "source": [
    "# Visualização gráfica\n",
    "sns.boxplot(df['saldo'], color = 'teal', orient='h')"
   ]
  },
  {
   "cell_type": "markdown",
   "id": "bcf74637-825c-47fe-872e-e95596385d11",
   "metadata": {},
   "source": [
    "- O boxplot não revelou muita informação além da já conhecida com a descrição, a distribuição poderá trazer mais informações a respeito desses dados."
   ]
  },
  {
   "cell_type": "code",
   "execution_count": 16,
   "id": "76f22a04-a16a-443c-af75-72a8be085fc5",
   "metadata": {},
   "outputs": [
    {
     "data": {
      "text/plain": [
       "<Axes: xlabel='saldo', ylabel='Count'>"
      ]
     },
     "execution_count": 16,
     "metadata": {},
     "output_type": "execute_result"
    },
    {
     "data": {
      "image/png": "[encoded data removed]",
      "text/plain": [
       "<Figure size 640x480 with 1 Axes>"
      ]
     },
     "metadata": {},
     "output_type": "display_data"
    }
   ],
   "source": [
    "sns.histplot(df['saldo'], color = 'teal', kde=True)"
   ]
  },
  {
   "cell_type": "markdown",
   "id": "b847b6af-01bd-4a76-a601-05053eee5405",
   "metadata": {},
   "source": [
    "- Com a distribuição, é nítida a concentração de clientes com saldo 0, podendo ser um fato consumado (muitos clientes com o saldo zerado, contas sem movimentação) ou então, tratar-se de um erro na coleta da informação, como \"saldo não informado\" = 0. Isso será investigado.\n",
    "\n",
    "Agora, na coluna salario:"
   ]
  },
  {
   "cell_type": "code",
   "execution_count": 17,
   "id": "f307adae-e266-4124-95d5-a8a384051148",
   "metadata": {},
   "outputs": [
    {
     "data": {
      "text/plain": [
       "count    9.920000e+02\n",
       "mean     3.528762e+07\n",
       "std      5.305800e+08\n",
       "min      9.677000e+03\n",
       "25%      3.029011e+06\n",
       "50%      8.703250e+06\n",
       "75%      1.405213e+07\n",
       "max      1.193469e+10\n",
       "Name: salario, dtype: float64"
      ]
     },
     "execution_count": 17,
     "metadata": {},
     "output_type": "execute_result"
    }
   ],
   "source": [
    "# Descrição\n",
    "df['salario'].describe()"
   ]
  },
  {
   "cell_type": "markdown",
   "id": "5db4e57a-7de9-4939-8a82-9d93ebac2580",
   "metadata": {},
   "source": [
    "- Os valores apresentados estão em formato científico pois são números com muitas casas decimais, a coluna é do tipo _float_.\n",
    "- A média está muito distante da mediana, indicando (mesmo em um dataset com poucos dados) a possível presença de outliers.\n",
    "\n",
    "Vou verificar com a visualização gráfica."
   ]
  },
  {
   "cell_type": "code",
   "execution_count": 18,
   "id": "cc9b4d97-af02-471d-bafe-a017543a9ff3",
   "metadata": {},
   "outputs": [
    {
     "data": {
      "text/plain": [
       "<Axes: xlabel='salario'>"
      ]
     },
     "execution_count": 18,
     "metadata": {},
     "output_type": "execute_result"
    },
    {
     "data": {
      "image/png": "[encoded data removed]",
      "text/plain": [
       "<Figure size 640x480 with 1 Axes>"
      ]
     },
     "metadata": {},
     "output_type": "display_data"
    }
   ],
   "source": [
    "# Visualização gráfica\n",
    "sns.boxplot(df['salario'], color = 'teal', orient='h')"
   ]
  },
  {
   "cell_type": "markdown",
   "id": "bec1564f-2fbd-4786-994e-80199568b253",
   "metadata": {},
   "source": [
    "- Fica claro que algo está incorreto quanto aos dados de salário, uma vez que, nem mesmo os quartis foram criados na figura. Os dados de salário precisam ser melhor analisados."
   ]
  },
  {
   "cell_type": "code",
   "execution_count": 19,
   "id": "e573ebb7-71a5-4b26-8cd2-f01e2a89c9d4",
   "metadata": {},
   "outputs": [
    {
     "data": {
      "text/plain": [
       "<Axes: xlabel='salario', ylabel='Count'>"
      ]
     },
     "execution_count": 19,
     "metadata": {},
     "output_type": "execute_result"
    },
    {
     "data": {
      "image/png": "[encoded data removed]",
      "text/plain": [
       "<Figure size 640x480 with 1 Axes>"
      ]
     },
     "metadata": {},
     "output_type": "display_data"
    }
   ],
   "source": [
    "sns.histplot(df['salario'], color = 'teal', kde=True)"
   ]
  },
  {
   "cell_type": "markdown",
   "id": "9bd4af92-9168-4b78-b484-33f9bcd27a3d",
   "metadata": {},
   "source": [
    "- A distribuição não mostra muita informação relevante com este formato de gráfico, uma vez que, pode haver uma grande quantidade de salários incorretos, porém, ainda não visualizados na análise.\n",
    "\n",
    "Para resolver isso, tentarei identificar se os valores estão nulos."
   ]
  },
  {
   "cell_type": "code",
   "execution_count": 20,
   "id": "1ff8bd7a-0213-4aa5-b98d-831c738eeea8",
   "metadata": {},
   "outputs": [
    {
     "data": {
      "text/plain": [
       "id                0\n",
       "score             0\n",
       "estado            0\n",
       "genero            8\n",
       "idade             0\n",
       "patrimonio        0\n",
       "saldo             0\n",
       "produtos          0\n",
       "temcartcredito    0\n",
       "ativo             0\n",
       "salario           7\n",
       "excliente         0\n",
       "dtype: int64"
      ]
     },
     "execution_count": 20,
     "metadata": {},
     "output_type": "execute_result"
    }
   ],
   "source": [
    "df.isnull().sum()"
   ]
  },
  {
   "cell_type": "markdown",
   "id": "9a901945-27ce-46e0-b696-0796637ccb48",
   "metadata": {},
   "source": [
    "- Existem 8 valores nulos na coluna 'genero' e 7 na coluna 'salario'. Nenhuma outra coluna possui nulos no dataset."
   ]
  },
  {
   "cell_type": "markdown",
   "id": "eeec287e-b039-44c8-b4a6-1b717d9f6ddf",
   "metadata": {},
   "source": [
    "### Tratamento dos dados"
   ]
  },
  {
   "cell_type": "markdown",
   "id": "c7ca7493-7796-483a-9dc2-e4388f8a44f3",
   "metadata": {},
   "source": [
    "Para o tratamento, poderei tanto eliminar quanto substituir valores incorretos ou nulos. Por padrão, quando for necessária a substituição dos dados nulos por algum valor, estarei usando a **mediana** como parâmetro. Para as colunas categóricas, utilizarei a **moda** como parâmetro, isto é, o termo com maior repetição no conjunto de dados.\n",
    "\n",
    "numericos.fillna(mediana)\n",
    "categoricos.fillna(moda)\n",
    "\n",
    "Vou iniciar pela mesma ordem na qual explorei os dados anteriormente:\n",
    "- estado\n",
    "- gênero\n",
    "- score\n",
    "- idade\n",
    "- saldo\n",
    "- salario\n",
    "\n",
    "Somente colunas numéricas podem ser calculadas, portanto, colunas categóricas não terão medianas."
   ]
  },
  {
   "cell_type": "code",
   "execution_count": 21,
   "id": "aed643d7-894f-4ad7-8282-d73809c1687a",
   "metadata": {},
   "outputs": [
    {
     "name": "stdout",
     "output_type": "stream",
     "text": [
      "mediana idade = 37\n",
      "mediana patrimônio = 5\n",
      "mediana saldo = 8958835\n",
      "mediana produtos = 1\n",
      "mediana temcartcredito = 1\n",
      "mediana ativo = 1\n",
      "mediana salário = 70518.0\n",
      "mediana excliente = 0\n"
     ]
    }
   ],
   "source": [
    "# Definir a medianas:\n",
    "med_idade = sts.median(df['idade'])\n",
    "print(f'mediana idade = {med_idade}' )\n",
    "med_patrimonio = sts.median(df['patrimonio'])\n",
    "print(f'mediana patrimônio = {med_patrimonio}' )\n",
    "med_saldo = sts.median(df['saldo'])\n",
    "print(f'mediana saldo = {med_saldo}' )\n",
    "med_produtos = sts.median(df['produtos'])\n",
    "print(f'mediana produtos = {med_produtos}' )\n",
    "med_temcartcredito = sts.median(df['temcartcredito'])\n",
    "print(f'mediana temcartcredito = {med_temcartcredito}' )\n",
    "med_ativo = sts.median(df['ativo'])\n",
    "print(f'mediana ativo = {med_ativo}' )\n",
    "med_salario = sts.median(df['salario'])\n",
    "print(f'mediana salário = {med_salario}' )\n",
    "med_excliente = sts.median(df['excliente'])\n",
    "print(f'mediana excliente = {med_excliente}' )"
   ]
  },
  {
   "cell_type": "markdown",
   "id": "f03263a2-9414-43f5-ac03-032161110d57",
   "metadata": {},
   "source": [
    "Com as medianas definidas, posso substituir os valores das colunas com valores nulos:"
   ]
  },
  {
   "cell_type": "code",
   "execution_count": 22,
   "id": "0b900f89-51d2-4f66-8dd0-8465f8e5b539",
   "metadata": {},
   "outputs": [],
   "source": [
    "# Primeiramente, farei uma cópia para salvar os dados limpos até o momento.\n",
    "df_copy = df.copy()\n",
    "\n",
    "# Agora, a substituição:\n",
    "df['salario'] = df['salario'].fillna(med_salario)"
   ]
  },
  {
   "cell_type": "code",
   "execution_count": 23,
   "id": "6d5cc97c-16ce-4f8d-90c4-edc8b6e03103",
   "metadata": {},
   "outputs": [
    {
     "data": {
      "text/plain": [
       "np.int64(0)"
      ]
     },
     "execution_count": 23,
     "metadata": {},
     "output_type": "execute_result"
    }
   ],
   "source": [
    "# Visualização dos valores nulos, para confirmar a mudança:\n",
    "\n",
    "df['salario'].isnull().sum()"
   ]
  },
  {
   "cell_type": "markdown",
   "id": "f097ce9f-7a81-4019-80a0-a7007b094066",
   "metadata": {},
   "source": [
    "Com o salário resolvido, agora, trabalharei na coluna genero."
   ]
  },
  {
   "cell_type": "code",
   "execution_count": 24,
   "id": "33afec53-36e3-40cc-8086-f5cf6f3da884",
   "metadata": {},
   "outputs": [
    {
     "name": "stdout",
     "output_type": "stream",
     "text": [
      "genero\n",
      "F              2\n",
      "Fem            1\n",
      "Feminino     461\n",
      "M              6\n",
      "Masculino    521\n",
      "dtype: int64\n"
     ]
    }
   ],
   "source": [
    "# Agrupamento dos dados da coluna genero:\n",
    "genero = df.groupby(['genero']).size()\n",
    "# Totais\n",
    "print(genero)"
   ]
  },
  {
   "cell_type": "code",
   "execution_count": 25,
   "id": "16649122-44f8-4c6f-b2ab-638b8e809481",
   "metadata": {},
   "outputs": [
    {
     "data": {
      "text/plain": [
       "np.int64(8)"
      ]
     },
     "execution_count": 25,
     "metadata": {},
     "output_type": "execute_result"
    }
   ],
   "source": [
    "# Visualização dos valores nulos\n",
    "df['genero'].isnull().sum()"
   ]
  },
  {
   "cell_type": "markdown",
   "id": "602dcbbf-d7b1-4ee1-8f05-e9d77843d6a9",
   "metadata": {},
   "source": [
    "Para a correção do NAs da coluna genero, utilizarei o atributo 'Masculino', que se repete 521 vezes, a moda do modelo."
   ]
  },
  {
   "cell_type": "code",
   "execution_count": 26,
   "id": "5fdd4687-2e93-4e11-a7ff-d5b0f9d6e499",
   "metadata": {},
   "outputs": [],
   "source": [
    "df['genero'] = df['genero'].fillna('Masculino')"
   ]
  },
  {
   "cell_type": "code",
   "execution_count": 27,
   "id": "8995c895-eaaa-4ff4-b8c8-af2ea55effad",
   "metadata": {},
   "outputs": [
    {
     "data": {
      "text/plain": [
       "np.int64(0)"
      ]
     },
     "execution_count": 27,
     "metadata": {},
     "output_type": "execute_result"
    }
   ],
   "source": [
    "# Visualização dos valores nulos\n",
    "df['genero'].isnull().sum()"
   ]
  },
  {
   "cell_type": "markdown",
   "id": "fd601d32-a595-48b2-9503-d4244acc1da0",
   "metadata": {},
   "source": [
    "Agora, vou fazer a padronização dos valores da variável de gênero. Valores como 'F' e 'Fem' serão transformados em 'Feminino', e 'M' será transformado em 'Masculino'.\n",
    "\n",
    "Essa é uma correção de domínio, pois alguns valores estão inconsistentes ou fora do padrão esperado."
   ]
  },
  {
   "cell_type": "code",
   "execution_count": 28,
   "id": "880c97ad-94d0-4854-8cbb-12259663d5ae",
   "metadata": {},
   "outputs": [
    {
     "name": "stdout",
     "output_type": "stream",
     "text": [
      "genero\n",
      "Feminino     464\n",
      "Masculino    535\n",
      "dtype: int64\n"
     ]
    }
   ],
   "source": [
    "df.loc[df['genero'] == 'M','genero'] = 'Masculino' #Transformar M em Masculino\n",
    "df.loc[df['genero'].isin(['Fem','F']), 'genero'] = 'Feminino' #Transformar F e Fem em Feminino\n",
    "\n",
    "# Visualizar os dados agrupados\n",
    "genero = df.groupby(['genero']).size()\n",
    "# Totais\n",
    "print(genero)"
   ]
  },
  {
   "cell_type": "markdown",
   "id": "a61886d8-0b66-4030-91dd-75e7d59022d7",
   "metadata": {},
   "source": [
    "Agora, vou trabalhar na correção da idade, valores negativos e acima de 120."
   ]
  },
  {
   "cell_type": "code",
   "execution_count": 29,
   "id": "2c6881eb-bf4f-4bb7-9844-c1d16bbab8b8",
   "metadata": {},
   "outputs": [
    {
     "data": {
      "text/html": [
       "<div>\n",
       "<style scoped>\n",
       "    .dataframe tbody tr th:only-of-type {\n",
       "        vertical-align: middle;\n",
       "    }\n",
       "\n",
       "    .dataframe tbody tr th {\n",
       "        vertical-align: top;\n",
       "    }\n",
       "\n",
       "    .dataframe thead th {\n",
       "        text-align: right;\n",
       "    }\n",
       "</style>\n",
       "<table border=\"1\" class=\"dataframe\">\n",
       "  <thead>\n",
       "    <tr style=\"text-align: right;\">\n",
       "      <th></th>\n",
       "      <th>id</th>\n",
       "      <th>score</th>\n",
       "      <th>estado</th>\n",
       "      <th>genero</th>\n",
       "      <th>idade</th>\n",
       "      <th>patrimonio</th>\n",
       "      <th>saldo</th>\n",
       "      <th>produtos</th>\n",
       "      <th>temcartcredito</th>\n",
       "      <th>ativo</th>\n",
       "      <th>salario</th>\n",
       "      <th>excliente</th>\n",
       "    </tr>\n",
       "  </thead>\n",
       "  <tbody>\n",
       "    <tr>\n",
       "      <th>867</th>\n",
       "      <td>869</td>\n",
       "      <td>636</td>\n",
       "      <td>RS</td>\n",
       "      <td>Feminino</td>\n",
       "      <td>-10</td>\n",
       "      <td>1</td>\n",
       "      <td>17083346</td>\n",
       "      <td>1</td>\n",
       "      <td>1</td>\n",
       "      <td>0</td>\n",
       "      <td>11051028.0</td>\n",
       "      <td>1</td>\n",
       "    </tr>\n",
       "    <tr>\n",
       "      <th>984</th>\n",
       "      <td>986</td>\n",
       "      <td>773</td>\n",
       "      <td>RS</td>\n",
       "      <td>Masculino</td>\n",
       "      <td>-20</td>\n",
       "      <td>1</td>\n",
       "      <td>12453278</td>\n",
       "      <td>2</td>\n",
       "      <td>0</td>\n",
       "      <td>1</td>\n",
       "      <td>1172357.0</td>\n",
       "      <td>0</td>\n",
       "    </tr>\n",
       "    <tr>\n",
       "      <th>990</th>\n",
       "      <td>992</td>\n",
       "      <td>655</td>\n",
       "      <td>RS</td>\n",
       "      <td>Masculino</td>\n",
       "      <td>140</td>\n",
       "      <td>5</td>\n",
       "      <td>93147</td>\n",
       "      <td>2</td>\n",
       "      <td>1</td>\n",
       "      <td>0</td>\n",
       "      <td>6621413.0</td>\n",
       "      <td>0</td>\n",
       "    </tr>\n",
       "  </tbody>\n",
       "</table>\n",
       "</div>"
      ],
      "text/plain": [
       "      id  score estado     genero  idade  patrimonio     saldo  produtos  \\\n",
       "867  869    636     RS   Feminino    -10           1  17083346         1   \n",
       "984  986    773     RS  Masculino    -20           1  12453278         2   \n",
       "990  992    655     RS  Masculino    140           5     93147         2   \n",
       "\n",
       "     temcartcredito  ativo     salario  excliente  \n",
       "867               1      0  11051028.0          1  \n",
       "984               0      1   1172357.0          0  \n",
       "990               1      0   6621413.0          0  "
      ]
     },
     "execution_count": 29,
     "metadata": {},
     "output_type": "execute_result"
    }
   ],
   "source": [
    "# Criar um método de verificação da quantidade de valores fora da faixa 0<>120:\n",
    "df.loc[(df['idade'] < 0) | (df['idade'] > 120)]"
   ]
  },
  {
   "cell_type": "markdown",
   "id": "f77fc844-cac0-4a45-ac15-64c5a74e0b6c",
   "metadata": {},
   "source": [
    "Existem apenas 3 registros fora desses parâmetros, com idades negativas (-10 e -20) ou acima de 120 anos (140). A idade é um valor numérico, portanto, utilizarei a mediana para substituir os dados fora do padrão estabelecido."
   ]
  },
  {
   "cell_type": "code",
   "execution_count": 30,
   "id": "92888c54-37f7-4888-bd3f-a3c1313957ce",
   "metadata": {},
   "outputs": [
    {
     "data": {
      "text/html": [
       "<div>\n",
       "<style scoped>\n",
       "    .dataframe tbody tr th:only-of-type {\n",
       "        vertical-align: middle;\n",
       "    }\n",
       "\n",
       "    .dataframe tbody tr th {\n",
       "        vertical-align: top;\n",
       "    }\n",
       "\n",
       "    .dataframe thead th {\n",
       "        text-align: right;\n",
       "    }\n",
       "</style>\n",
       "<table border=\"1\" class=\"dataframe\">\n",
       "  <thead>\n",
       "    <tr style=\"text-align: right;\">\n",
       "      <th></th>\n",
       "      <th>id</th>\n",
       "      <th>score</th>\n",
       "      <th>estado</th>\n",
       "      <th>genero</th>\n",
       "      <th>idade</th>\n",
       "      <th>patrimonio</th>\n",
       "      <th>saldo</th>\n",
       "      <th>produtos</th>\n",
       "      <th>temcartcredito</th>\n",
       "      <th>ativo</th>\n",
       "      <th>salario</th>\n",
       "      <th>excliente</th>\n",
       "    </tr>\n",
       "  </thead>\n",
       "  <tbody>\n",
       "  </tbody>\n",
       "</table>\n",
       "</div>"
      ],
      "text/plain": [
       "Empty DataFrame\n",
       "Columns: [id, score, estado, genero, idade, patrimonio, saldo, produtos, temcartcredito, ativo, salario, excliente]\n",
       "Index: []"
      ]
     },
     "execution_count": 30,
     "metadata": {},
     "output_type": "execute_result"
    }
   ],
   "source": [
    "# Substituir datas fora do padrão pela mediana da idade:\n",
    "df.loc[(df['idade'] < 0) | (df['idade'] > 120)] = med_idade\n",
    "\n",
    "# Visualizar os dados fora do padrão\n",
    "df.loc[(df['idade'] < 0) | (df['idade'] > 120)]"
   ]
  },
  {
   "cell_type": "markdown",
   "id": "bbd374e5-4656-4fde-b177-36c1189136b2",
   "metadata": {},
   "source": [
    "Nenhum registro fora do padrão estipulado. Agora, vou verificar os dados duplicados no dataset."
   ]
  },
  {
   "cell_type": "code",
   "execution_count": 31,
   "id": "ce561e82-5020-4605-a15a-a95aa0c668d2",
   "metadata": {},
   "outputs": [
    {
     "data": {
      "text/html": [
       "<div>\n",
       "<style scoped>\n",
       "    .dataframe tbody tr th:only-of-type {\n",
       "        vertical-align: middle;\n",
       "    }\n",
       "\n",
       "    .dataframe tbody tr th {\n",
       "        vertical-align: top;\n",
       "    }\n",
       "\n",
       "    .dataframe thead th {\n",
       "        text-align: right;\n",
       "    }\n",
       "</style>\n",
       "<table border=\"1\" class=\"dataframe\">\n",
       "  <thead>\n",
       "    <tr style=\"text-align: right;\">\n",
       "      <th></th>\n",
       "      <th>id</th>\n",
       "      <th>score</th>\n",
       "      <th>estado</th>\n",
       "      <th>genero</th>\n",
       "      <th>idade</th>\n",
       "      <th>patrimonio</th>\n",
       "      <th>saldo</th>\n",
       "      <th>produtos</th>\n",
       "      <th>temcartcredito</th>\n",
       "      <th>ativo</th>\n",
       "      <th>salario</th>\n",
       "      <th>excliente</th>\n",
       "    </tr>\n",
       "  </thead>\n",
       "  <tbody>\n",
       "    <tr>\n",
       "      <th>36</th>\n",
       "      <td>37</td>\n",
       "      <td>490</td>\n",
       "      <td>SC</td>\n",
       "      <td>Masculino</td>\n",
       "      <td>31</td>\n",
       "      <td>3</td>\n",
       "      <td>14526023</td>\n",
       "      <td>1</td>\n",
       "      <td>0</td>\n",
       "      <td>1</td>\n",
       "      <td>11406677.0</td>\n",
       "      <td>0</td>\n",
       "    </tr>\n",
       "    <tr>\n",
       "      <th>80</th>\n",
       "      <td>81</td>\n",
       "      <td>665</td>\n",
       "      <td>RS</td>\n",
       "      <td>Feminino</td>\n",
       "      <td>34</td>\n",
       "      <td>1</td>\n",
       "      <td>9664554</td>\n",
       "      <td>2</td>\n",
       "      <td>0</td>\n",
       "      <td>0</td>\n",
       "      <td>17141366.0</td>\n",
       "      <td>0</td>\n",
       "    </tr>\n",
       "    <tr>\n",
       "      <th>81</th>\n",
       "      <td>81</td>\n",
       "      <td>665</td>\n",
       "      <td>RS</td>\n",
       "      <td>Feminino</td>\n",
       "      <td>34</td>\n",
       "      <td>1</td>\n",
       "      <td>9664554</td>\n",
       "      <td>2</td>\n",
       "      <td>0</td>\n",
       "      <td>0</td>\n",
       "      <td>17141366.0</td>\n",
       "      <td>0</td>\n",
       "    </tr>\n",
       "    <tr>\n",
       "      <th>867</th>\n",
       "      <td>37</td>\n",
       "      <td>37</td>\n",
       "      <td>37</td>\n",
       "      <td>37</td>\n",
       "      <td>37</td>\n",
       "      <td>37</td>\n",
       "      <td>37</td>\n",
       "      <td>37</td>\n",
       "      <td>37</td>\n",
       "      <td>37</td>\n",
       "      <td>37.0</td>\n",
       "      <td>37</td>\n",
       "    </tr>\n",
       "    <tr>\n",
       "      <th>984</th>\n",
       "      <td>37</td>\n",
       "      <td>37</td>\n",
       "      <td>37</td>\n",
       "      <td>37</td>\n",
       "      <td>37</td>\n",
       "      <td>37</td>\n",
       "      <td>37</td>\n",
       "      <td>37</td>\n",
       "      <td>37</td>\n",
       "      <td>37</td>\n",
       "      <td>37.0</td>\n",
       "      <td>37</td>\n",
       "    </tr>\n",
       "    <tr>\n",
       "      <th>990</th>\n",
       "      <td>37</td>\n",
       "      <td>37</td>\n",
       "      <td>37</td>\n",
       "      <td>37</td>\n",
       "      <td>37</td>\n",
       "      <td>37</td>\n",
       "      <td>37</td>\n",
       "      <td>37</td>\n",
       "      <td>37</td>\n",
       "      <td>37</td>\n",
       "      <td>37.0</td>\n",
       "      <td>37</td>\n",
       "    </tr>\n",
       "  </tbody>\n",
       "</table>\n",
       "</div>"
      ],
      "text/plain": [
       "     id  score estado     genero  idade  patrimonio     saldo  produtos  \\\n",
       "36   37    490     SC  Masculino     31           3  14526023         1   \n",
       "80   81    665     RS   Feminino     34           1   9664554         2   \n",
       "81   81    665     RS   Feminino     34           1   9664554         2   \n",
       "867  37     37     37         37     37          37        37        37   \n",
       "984  37     37     37         37     37          37        37        37   \n",
       "990  37     37     37         37     37          37        37        37   \n",
       "\n",
       "     temcartcredito  ativo     salario  excliente  \n",
       "36                0      1  11406677.0          0  \n",
       "80                0      0  17141366.0          0  \n",
       "81                0      0  17141366.0          0  \n",
       "867              37     37        37.0         37  \n",
       "984              37     37        37.0         37  \n",
       "990              37     37        37.0         37  "
      ]
     },
     "execution_count": 31,
     "metadata": {},
     "output_type": "execute_result"
    }
   ],
   "source": [
    "df[df.duplicated(['id'], keep=False)]"
   ]
  },
  {
   "cell_type": "markdown",
   "id": "9a3f6fce-3787-4bed-abb8-33f36e633da7",
   "metadata": {},
   "source": [
    "Dois clientes têm dados duplicados, 37 e 81. Portanto, vou eliminar os dados duplicados dos dois clientes, mantendo apenas o primeiro valor (indexado) de cada cliente."
   ]
  },
  {
   "cell_type": "code",
   "execution_count": 32,
   "id": "a7e288be-fa2d-4ed9-8f65-f04ade5ea8ca",
   "metadata": {},
   "outputs": [
    {
     "data": {
      "text/html": [
       "<div>\n",
       "<style scoped>\n",
       "    .dataframe tbody tr th:only-of-type {\n",
       "        vertical-align: middle;\n",
       "    }\n",
       "\n",
       "    .dataframe tbody tr th {\n",
       "        vertical-align: top;\n",
       "    }\n",
       "\n",
       "    .dataframe thead th {\n",
       "        text-align: right;\n",
       "    }\n",
       "</style>\n",
       "<table border=\"1\" class=\"dataframe\">\n",
       "  <thead>\n",
       "    <tr style=\"text-align: right;\">\n",
       "      <th></th>\n",
       "      <th>id</th>\n",
       "      <th>score</th>\n",
       "      <th>estado</th>\n",
       "      <th>genero</th>\n",
       "      <th>idade</th>\n",
       "      <th>patrimonio</th>\n",
       "      <th>saldo</th>\n",
       "      <th>produtos</th>\n",
       "      <th>temcartcredito</th>\n",
       "      <th>ativo</th>\n",
       "      <th>salario</th>\n",
       "      <th>excliente</th>\n",
       "    </tr>\n",
       "  </thead>\n",
       "  <tbody>\n",
       "  </tbody>\n",
       "</table>\n",
       "</div>"
      ],
      "text/plain": [
       "Empty DataFrame\n",
       "Columns: [id, score, estado, genero, idade, patrimonio, saldo, produtos, temcartcredito, ativo, salario, excliente]\n",
       "Index: []"
      ]
     },
     "execution_count": 32,
     "metadata": {},
     "output_type": "execute_result"
    }
   ],
   "source": [
    "# Remover valores duplicados mantendo apenas o primeiro registro:\n",
    "df.drop_duplicates(subset='id',keep='first',inplace=True)\n",
    "\n",
    "# Visualizar dados duplicados:\n",
    "df[df.duplicated(['id'], keep=False)]"
   ]
  },
  {
   "cell_type": "markdown",
   "id": "6da30f38-d9f1-4de9-acbc-4a7374a6ac9f",
   "metadata": {},
   "source": [
    "Com os duplicados resolvidos, vou resolver outro problema de inconsistência de domínio, os Estados."
   ]
  },
  {
   "cell_type": "code",
   "execution_count": 33,
   "id": "c05f0406-3e12-434e-9f76-a22e42896168",
   "metadata": {},
   "outputs": [
    {
     "name": "stdout",
     "output_type": "stream",
     "text": [
      "estado\n",
      "PR    257\n",
      "RP      1\n",
      "RS    474\n",
      "SC    258\n",
      "SP      4\n",
      "TD      1\n",
      "dtype: int64\n"
     ]
    }
   ],
   "source": [
    "# Visualizar os dados agrupados\n",
    "estado = df.groupby(['estado']).size()\n",
    "# Totais\n",
    "print(estado)"
   ]
  },
  {
   "cell_type": "markdown",
   "id": "fd88ab94-d464-4208-9e53-048a17a289e3",
   "metadata": {},
   "source": [
    "Assim como a coluna 'genero', a coluna 'estado' é categórica, portanto, os dados inconsistentes serão alterados para a moda, que neste contexto é o valor 'RS' (474 repetições)."
   ]
  },
  {
   "cell_type": "code",
   "execution_count": 34,
   "id": "ab8f698f-4660-4e39-9748-3fdbbbd1e126",
   "metadata": {},
   "outputs": [
    {
     "name": "stdout",
     "output_type": "stream",
     "text": [
      "estado\n",
      "PR    257\n",
      "RS    480\n",
      "SC    258\n",
      "dtype: int64\n"
     ]
    }
   ],
   "source": [
    "# Vou alterar os valores \"RP\", \"SP\" e \"TD\" para \"RS\":\n",
    "df.loc[df['estado'].isin(['RP', 'SP', 'TD']), 'estado'] = 'RS'\n",
    "# Visualizar os dados agrupados\n",
    "estado = df.groupby(['estado']).size()\n",
    "# Totais\n",
    "print(estado)"
   ]
  },
  {
   "cell_type": "markdown",
   "id": "963b83c4-b6cc-45ab-af78-0572329148f8",
   "metadata": {},
   "source": [
    "Por fim, os outliers serão verificados, pois aparentemente existem outliers. Para realizar o tratamento, vou analisar o desvio padrão da coluna salário. Valores que estiverem 2 desvios acima da média, serão considerados outliers.\n",
    "\n",
    "Para isso, primeiramente vou calcular o desvio padrão dos salários:"
   ]
  },
  {
   "cell_type": "code",
   "execution_count": 35,
   "id": "3f925b7b-4090-4a18-8cb8-319100b144f1",
   "metadata": {},
   "outputs": [
    {
     "name": "stdout",
     "output_type": "stream",
     "text": [
      "O desvio padrão dos salários é: 529784177.60963464\n"
     ]
    }
   ],
   "source": [
    "dp_salario = sts.stdev(df['salario'])\n",
    "print(f'O desvio padrão dos salários é: {dp_salario}')"
   ]
  },
  {
   "cell_type": "code",
   "execution_count": 36,
   "id": "e51f58ed-0313-4920-9232-913b1853e3aa",
   "metadata": {},
   "outputs": [
    {
     "data": {
      "text/html": [
       "<div>\n",
       "<style scoped>\n",
       "    .dataframe tbody tr th:only-of-type {\n",
       "        vertical-align: middle;\n",
       "    }\n",
       "\n",
       "    .dataframe tbody tr th {\n",
       "        vertical-align: top;\n",
       "    }\n",
       "\n",
       "    .dataframe thead th {\n",
       "        text-align: right;\n",
       "    }\n",
       "</style>\n",
       "<table border=\"1\" class=\"dataframe\">\n",
       "  <thead>\n",
       "    <tr style=\"text-align: right;\">\n",
       "      <th></th>\n",
       "      <th>id</th>\n",
       "      <th>score</th>\n",
       "      <th>estado</th>\n",
       "      <th>genero</th>\n",
       "      <th>idade</th>\n",
       "      <th>patrimonio</th>\n",
       "      <th>saldo</th>\n",
       "      <th>produtos</th>\n",
       "      <th>temcartcredito</th>\n",
       "      <th>ativo</th>\n",
       "      <th>salario</th>\n",
       "      <th>excliente</th>\n",
       "    </tr>\n",
       "  </thead>\n",
       "  <tbody>\n",
       "    <tr>\n",
       "      <th>7</th>\n",
       "      <td>8</td>\n",
       "      <td>376</td>\n",
       "      <td>PR</td>\n",
       "      <td>Feminino</td>\n",
       "      <td>29</td>\n",
       "      <td>4</td>\n",
       "      <td>11504674</td>\n",
       "      <td>4</td>\n",
       "      <td>1</td>\n",
       "      <td>0</td>\n",
       "      <td>1.193469e+10</td>\n",
       "      <td>1</td>\n",
       "    </tr>\n",
       "    <tr>\n",
       "      <th>116</th>\n",
       "      <td>118</td>\n",
       "      <td>668</td>\n",
       "      <td>PR</td>\n",
       "      <td>Feminino</td>\n",
       "      <td>37</td>\n",
       "      <td>6</td>\n",
       "      <td>1678644</td>\n",
       "      <td>1</td>\n",
       "      <td>1</td>\n",
       "      <td>0</td>\n",
       "      <td>1.156383e+10</td>\n",
       "      <td>0</td>\n",
       "    </tr>\n",
       "    <tr>\n",
       "      <th>170</th>\n",
       "      <td>172</td>\n",
       "      <td>484</td>\n",
       "      <td>RS</td>\n",
       "      <td>Feminino</td>\n",
       "      <td>29</td>\n",
       "      <td>4</td>\n",
       "      <td>13011439</td>\n",
       "      <td>1</td>\n",
       "      <td>1</td>\n",
       "      <td>0</td>\n",
       "      <td>1.640179e+09</td>\n",
       "      <td>0</td>\n",
       "    </tr>\n",
       "    <tr>\n",
       "      <th>230</th>\n",
       "      <td>232</td>\n",
       "      <td>673</td>\n",
       "      <td>RS</td>\n",
       "      <td>Masculino</td>\n",
       "      <td>72</td>\n",
       "      <td>1</td>\n",
       "      <td>0</td>\n",
       "      <td>2</td>\n",
       "      <td>0</td>\n",
       "      <td>1</td>\n",
       "      <td>1.119812e+09</td>\n",
       "      <td>0</td>\n",
       "    </tr>\n",
       "  </tbody>\n",
       "</table>\n",
       "</div>"
      ],
      "text/plain": [
       "      id  score estado     genero  idade  patrimonio     saldo  produtos  \\\n",
       "7      8    376     PR   Feminino     29           4  11504674         4   \n",
       "116  118    668     PR   Feminino     37           6   1678644         1   \n",
       "170  172    484     RS   Feminino     29           4  13011439         1   \n",
       "230  232    673     RS  Masculino     72           1         0         2   \n",
       "\n",
       "     temcartcredito  ativo       salario  excliente  \n",
       "7                 1      0  1.193469e+10          1  \n",
       "116               1      0  1.156383e+10          0  \n",
       "170               1      0  1.640179e+09          0  \n",
       "230               0      1  1.119812e+09          0  "
      ]
     },
     "execution_count": 36,
     "metadata": {},
     "output_type": "execute_result"
    }
   ],
   "source": [
    "df.loc[df['salario'] >= 2 * dp_salario]"
   ]
  },
  {
   "cell_type": "markdown",
   "id": "2424edce-f63e-47aa-b541-e59692b1153b",
   "metadata": {},
   "source": [
    "Uma assunção estatística implícita Gaussiana indica que, caso haja uma distribuição normal, 68% dos dados estarão dentro de ±1 desvio padrão da média, 95% dentro de ±2 desvios, e o restante fora de ±2 desvios. Neste caso, pressupõe-se tratar os outliers com essa abordagem (se ± 2 desvios = outlier).\n",
    "\n",
    "Porém, esse processo pressupõe uma distribuição normal entre os dados, o que não é o caso desse dataset, pois os dados estão enormemente mal distribuídos."
   ]
  },
  {
   "cell_type": "code",
   "execution_count": 37,
   "id": "dd00d00e-0f28-46f0-b8e8-c9c004e8ef4c",
   "metadata": {},
   "outputs": [
    {
     "name": "stdout",
     "output_type": "stream",
     "text": [
      "11934688000.0\n",
      "9677.0\n",
      "35145554.52361809\n"
     ]
    }
   ],
   "source": [
    "maxi = df['salario'].max()\n",
    "mini = df['salario'].min()\n",
    "media = df['salario'].mean()\n",
    "\n",
    "print(maxi)\n",
    "print(mini)\n",
    "print(media)"
   ]
  },
  {
   "cell_type": "code",
   "execution_count": 38,
   "id": "bcc19332-9880-45e8-8c9e-213c54bb11cd",
   "metadata": {},
   "outputs": [
    {
     "name": "stdout",
     "output_type": "stream",
     "text": [
      "7      1.193469e+10\n",
      "116    1.156383e+10\n",
      "170    1.640179e+09\n",
      "230    1.119812e+09\n",
      "118    1.997254e+07\n",
      "           ...     \n",
      "804    1.517385e+07\n",
      "682    1.513035e+07\n",
      "720    1.506944e+07\n",
      "293    1.504015e+07\n",
      "484    1.502278e+07\n",
      "Name: salario, Length: 200, dtype: float64\n"
     ]
    }
   ],
   "source": [
    "print(df['salario'].sort_values(ascending=False).head(200))"
   ]
  },
  {
   "cell_type": "code",
   "execution_count": 39,
   "id": "92d9e13a-c1a4-41af-b105-46b71fe1b905",
   "metadata": {},
   "outputs": [],
   "source": [
    "df['salario'] = df['salario'].astype(int)"
   ]
  },
  {
   "cell_type": "code",
   "execution_count": 40,
   "id": "38baed99-02f0-4f8c-a851-1b8964b8d0ce",
   "metadata": {},
   "outputs": [
    {
     "name": "stdout",
     "output_type": "stream",
     "text": [
      "O desvio padrão dos salários é: 529784177.60963464\n"
     ]
    }
   ],
   "source": [
    "dp_salario = sts.stdev(df['salario'])\n",
    "print(f'O desvio padrão dos salários é: {dp_salario}')"
   ]
  },
  {
   "cell_type": "code",
   "execution_count": 41,
   "id": "0bd46451-9240-4cf8-af5c-5e8554379745",
   "metadata": {},
   "outputs": [
    {
     "name": "stdout",
     "output_type": "stream",
     "text": [
      "7      11934688000\n",
      "116    11563829000\n",
      "170     1640178900\n",
      "230     1119811900\n",
      "118       19972539\n",
      "          ...     \n",
      "804       15173854\n",
      "682       15130348\n",
      "720       15069442\n",
      "293       15040153\n",
      "484       15022785\n",
      "Name: salario, Length: 200, dtype: int64\n"
     ]
    }
   ],
   "source": [
    "print(df['salario'].sort_values(ascending=False).head(200))"
   ]
  },
  {
   "cell_type": "code",
   "execution_count": 42,
   "id": "50f244a6-fef1-4dea-be58-ef5055ff002e",
   "metadata": {},
   "outputs": [],
   "source": [
    "df.loc[df['salario'] >= 2 * dp_salario, 'salario'] = med_salario"
   ]
  },
  {
   "cell_type": "code",
   "execution_count": 43,
   "id": "a57c3414-a031-412e-b408-7ff66c7de98b",
   "metadata": {},
   "outputs": [
    {
     "data": {
      "text/plain": [
       "<Axes: xlabel='salario'>"
      ]
     },
     "execution_count": 43,
     "metadata": {},
     "output_type": "execute_result"
    },
    {
     "data": {
      "image/png": "[encoded data removed]",
      "text/plain": [
       "<Figure size 640x480 with 1 Axes>"
      ]
     },
     "metadata": {},
     "output_type": "display_data"
    }
   ],
   "source": [
    "# Visualização gráfica\n",
    "sns.boxplot(df['salario'], color = 'teal', orient='h')"
   ]
  },
  {
   "cell_type": "code",
   "execution_count": 44,
   "id": "9a8bf8e9-8c69-4b66-9d9f-1855a658133e",
   "metadata": {},
   "outputs": [
    {
     "data": {
      "text/plain": [
       "<Axes: xlabel='salario', ylabel='Count'>"
      ]
     },
     "execution_count": 44,
     "metadata": {},
     "output_type": "execute_result"
    },
    {
     "data": {
      "image/png": "[encoded data removed]",
      "text/plain": [
       "<Figure size 640x480 with 1 Axes>"
      ]
     },
     "metadata": {},
     "output_type": "display_data"
    }
   ],
   "source": [
    "sns.histplot(df['salario'], color = 'teal', kde=True)"
   ]
  }
 ],
 "metadata": {
  "kernelspec": {
   "display_name": "Python 3 (ipykernel)",
   "language": "python",
   "name": "python3"
  },
  "language_info": {
   "codemirror_mode": {
    "name": "ipython",
    "version": 3
   },
   "file_extension": ".py",
   "mimetype": "text/x-python",
   "name": "python",
   "nbconvert_exporter": "python",
   "pygments_lexer": "ipython3",
   "version": "3.12.8"
  }
 },
 "nbformat": 4,
 "nbformat_minor": 5
}
