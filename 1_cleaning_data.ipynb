{
 "cells": [
  {
   "cell_type": "markdown",
   "id": "6fc8df5f-5403-4860-a05e-216d0215dc57",
   "metadata": {},
   "source": [
    "# Análise de Churn"
   ]
  },
  {
   "cell_type": "markdown",
   "id": "b7a939fa-323b-4afe-94a6-760b84ea87af",
   "metadata": {},
   "source": [
    "Vou criar um modelo de análise de Churn de um banco da região sul do Brasil. Serão buscadas possíveis tendências, desvios, padrões de comportamento e outros insights que favoreçam ao negócio, tanto na tomada de medidas para redução dos cancelamentos quanto no aumento da receita."
   ]
  },
  {
   "cell_type": "markdown",
   "id": "b2f9e51f-184d-41ae-941d-2b8592ec16c3",
   "metadata": {},
   "source": [
    "## Objetivo"
   ]
  },
  {
   "cell_type": "markdown",
   "id": "c69a0c3f-ccd5-41c4-bd47-482760da645b",
   "metadata": {},
   "source": [
    "O objetivo principal do modelo será prever os clientes com maior probabilidade de deixar o banco, para que hajam ações de contorno com esses clientes e o cancelamento possa ser revertido, senão, remediado."
   ]
  },
  {
   "cell_type": "markdown",
   "id": "ba1d5662-9b0a-4000-98f8-7875c91e8e22",
   "metadata": {},
   "source": [
    "## Limpeza e tratamento de dados"
   ]
  },
  {
   "cell_type": "markdown",
   "id": "78accfec-1f11-4a88-b9ea-f6a17b3cafe8",
   "metadata": {},
   "source": [
    "Vou utilizar os critérios abaixo na limpeza dos dados, onde buscarei validar e corrigir possíveis duplicidades, inconsistências, incompletudes e inconformidades nos dados.\n",
    "Com isso, vou garantir a integridade dos dados para criar um modelo com o mínimo enviesamento possível a partir da base disponível."
   ]
  },
  {
   "cell_type": "markdown",
   "id": "d0c0db10-f7a4-43f0-83d4-df11aebe1c8a",
   "metadata": {},
   "source": [
    "### 1.0 Importando bibliotecas"
   ]
  },
  {
   "cell_type": "code",
   "execution_count": 1,
   "id": "82bd2ba1-4d52-40bf-9aff-fa69e2a78bc9",
   "metadata": {},
   "outputs": [],
   "source": [
    "import pandas as pd\n",
    "import seaborn as sns\n",
    "import statistics as sts"
   ]
  },
  {
   "cell_type": "markdown",
   "id": "9564cb31-8348-416c-8076-50f0a52536d6",
   "metadata": {},
   "source": [
    "A biblioteca **pandas** será importada para tratar os dados de forma tabular, como um DataFrame (df).\n",
    "\n",
    "A biblioteca **seaborn** será importada para a visualização dos dados na etapa de exploração dos dados limpos.\n",
    "\n",
    "A biblioteca **statistics** será importada para alguns cálculos de distribuição e detecção de outliers."
   ]
  },
  {
   "cell_type": "markdown",
   "id": "262ddc08-fe14-4098-abd2-a106ec2e2dbd",
   "metadata": {},
   "source": [
    "### 1.1 Compreendendo o dataset"
   ]
  },
  {
   "cell_type": "markdown",
   "id": "34cd2843-679e-479a-a0c8-c72c73e24b1b",
   "metadata": {},
   "source": [
    "Para compreender o dataset, primeiramente preciso importá-lo, verificar tamanho e atributos. A partir daí, posso iniciar o tratamento das inconsistências encontradas. "
   ]
  },
  {
   "cell_type": "code",
   "execution_count": 2,
   "id": "d4da9074-89c4-41b9-a34c-147014beb062",
   "metadata": {},
   "outputs": [
    {
     "data": {
      "text/html": [
       "<div>\n",
       "<style scoped>\n",
       "    .dataframe tbody tr th:only-of-type {\n",
       "        vertical-align: middle;\n",
       "    }\n",
       "\n",
       "    .dataframe tbody tr th {\n",
       "        vertical-align: top;\n",
       "    }\n",
       "\n",
       "    .dataframe thead th {\n",
       "        text-align: right;\n",
       "    }\n",
       "</style>\n",
       "<table border=\"1\" class=\"dataframe\">\n",
       "  <thead>\n",
       "    <tr style=\"text-align: right;\">\n",
       "      <th></th>\n",
       "      <th>X0</th>\n",
       "      <th>X1</th>\n",
       "      <th>X2</th>\n",
       "      <th>X3</th>\n",
       "      <th>X4</th>\n",
       "      <th>X4.1</th>\n",
       "      <th>X6</th>\n",
       "      <th>X7</th>\n",
       "      <th>X8</th>\n",
       "      <th>X9</th>\n",
       "      <th>X10</th>\n",
       "      <th>X11</th>\n",
       "    </tr>\n",
       "  </thead>\n",
       "  <tbody>\n",
       "    <tr>\n",
       "      <th>0</th>\n",
       "      <td>1</td>\n",
       "      <td>619</td>\n",
       "      <td>RS</td>\n",
       "      <td>Feminino</td>\n",
       "      <td>42</td>\n",
       "      <td>2</td>\n",
       "      <td>0</td>\n",
       "      <td>1</td>\n",
       "      <td>1</td>\n",
       "      <td>1</td>\n",
       "      <td>10134888.0</td>\n",
       "      <td>1</td>\n",
       "    </tr>\n",
       "    <tr>\n",
       "      <th>1</th>\n",
       "      <td>2</td>\n",
       "      <td>608</td>\n",
       "      <td>SC</td>\n",
       "      <td>Feminino</td>\n",
       "      <td>41</td>\n",
       "      <td>1</td>\n",
       "      <td>8380786</td>\n",
       "      <td>1</td>\n",
       "      <td>0</td>\n",
       "      <td>1</td>\n",
       "      <td>11254258.0</td>\n",
       "      <td>0</td>\n",
       "    </tr>\n",
       "    <tr>\n",
       "      <th>2</th>\n",
       "      <td>3</td>\n",
       "      <td>502</td>\n",
       "      <td>RS</td>\n",
       "      <td>Feminino</td>\n",
       "      <td>42</td>\n",
       "      <td>8</td>\n",
       "      <td>1596608</td>\n",
       "      <td>3</td>\n",
       "      <td>1</td>\n",
       "      <td>0</td>\n",
       "      <td>11393157.0</td>\n",
       "      <td>1</td>\n",
       "    </tr>\n",
       "    <tr>\n",
       "      <th>3</th>\n",
       "      <td>4</td>\n",
       "      <td>699</td>\n",
       "      <td>RS</td>\n",
       "      <td>Feminino</td>\n",
       "      <td>39</td>\n",
       "      <td>1</td>\n",
       "      <td>0</td>\n",
       "      <td>2</td>\n",
       "      <td>0</td>\n",
       "      <td>0</td>\n",
       "      <td>9382663.0</td>\n",
       "      <td>0</td>\n",
       "    </tr>\n",
       "    <tr>\n",
       "      <th>4</th>\n",
       "      <td>5</td>\n",
       "      <td>850</td>\n",
       "      <td>SC</td>\n",
       "      <td>Feminino</td>\n",
       "      <td>43</td>\n",
       "      <td>2</td>\n",
       "      <td>12551082</td>\n",
       "      <td>1</td>\n",
       "      <td>1</td>\n",
       "      <td>1</td>\n",
       "      <td>790841.0</td>\n",
       "      <td>0</td>\n",
       "    </tr>\n",
       "  </tbody>\n",
       "</table>\n",
       "</div>"
      ],
      "text/plain": [
       "   X0   X1  X2        X3  X4  X4.1        X6  X7  X8  X9         X10  X11\n",
       "0   1  619  RS  Feminino  42     2         0   1   1   1  10134888.0    1\n",
       "1   2  608  SC  Feminino  41     1   8380786   1   0   1  11254258.0    0\n",
       "2   3  502  RS  Feminino  42     8   1596608   3   1   0  11393157.0    1\n",
       "3   4  699  RS  Feminino  39     1         0   2   0   0   9382663.0    0\n",
       "4   5  850  SC  Feminino  43     2  12551082   1   1   1    790841.0    0"
      ]
     },
     "execution_count": 2,
     "metadata": {},
     "output_type": "execute_result"
    }
   ],
   "source": [
    "# O dataset será importado e lido pelo Pandas como um DataFrame, a nomenclatura será df.\n",
    "df = pd.read_csv(\"Churn.csv\", sep=\";\")\n",
    "# Visualização dos dados importados\n",
    "df.head()"
   ]
  },
  {
   "cell_type": "markdown",
   "id": "9a1dfa23-20f5-4335-9f95-790f7ab99aa1",
   "metadata": {},
   "source": [
    "As colunas possuem nomes que não fazem sentido. Antes de analisar e tratar isso, quero entender o tamanho do dataset (linhas x colunas):"
   ]
  },
  {
   "cell_type": "code",
   "execution_count": 3,
   "id": "7342f542-74e8-4d29-8c6b-d0434dd33a6e",
   "metadata": {},
   "outputs": [
    {
     "data": {
      "text/plain": [
       "(999, 12)"
      ]
     },
     "execution_count": 3,
     "metadata": {},
     "output_type": "execute_result"
    }
   ],
   "source": [
    "df.shape"
   ]
  },
  {
   "cell_type": "markdown",
   "id": "bd8f878d-7e01-4239-99fa-1fa4f90eba4e",
   "metadata": {},
   "source": [
    "O dataset tem 999 linhas e 12 colunas."
   ]
  },
  {
   "cell_type": "markdown",
   "id": "c5776ab4-ee00-486f-9bac-9b06f69b96a8",
   "metadata": {},
   "source": [
    "### 1.2 Dicionário dos dados"
   ]
  },
  {
   "cell_type": "markdown",
   "id": "dc46b143-cf73-404b-bad6-1fda09f039e2",
   "metadata": {},
   "source": [
    "O banco forneceu o dicionário das colunas, :\n",
    "- id: Código de identificação de cada cliente.\n",
    "- score: Pontuação do cliente no sistema de crédito do banco, quanto maior, melhor.\n",
    "- estado: Estado (UF) da agência do cliente.\n",
    "- genero: Gênero do cliente (feminino, masculino).\n",
    "- idade: Idade do cliente.\n",
    "- patrimonio: Quantidade de patrimônios declarados pelo cliente.\n",
    "- saldo: Saldo na conta do cliente.\n",
    "- produtos: Produtos do banco adquiridos ou assinados pelo cliente.\n",
    "- temcartcredito: Possui cartão de crédito do banco (1 = sim, 0 = não).\n",
    "- ativo: Conta ativa no banco (1 = sim, 0 = não).\n",
    "- salario: Salário mensal do cliente, recebido no banco.\n",
    "- excliente: Cliente cancelou a conta (churn) (1 = sim, 0 = não)."
   ]
  },
  {
   "cell_type": "code",
   "execution_count": 4,
   "id": "0b98a5ca-d37d-404e-8d23-33240a3dd155",
   "metadata": {},
   "outputs": [
    {
     "data": {
      "text/html": [
       "<div>\n",
       "<style scoped>\n",
       "    .dataframe tbody tr th:only-of-type {\n",
       "        vertical-align: middle;\n",
       "    }\n",
       "\n",
       "    .dataframe tbody tr th {\n",
       "        vertical-align: top;\n",
       "    }\n",
       "\n",
       "    .dataframe thead th {\n",
       "        text-align: right;\n",
       "    }\n",
       "</style>\n",
       "<table border=\"1\" class=\"dataframe\">\n",
       "  <thead>\n",
       "    <tr style=\"text-align: right;\">\n",
       "      <th></th>\n",
       "      <th>id</th>\n",
       "      <th>score</th>\n",
       "      <th>estado</th>\n",
       "      <th>genero</th>\n",
       "      <th>idade</th>\n",
       "      <th>patrimonio</th>\n",
       "      <th>saldo</th>\n",
       "      <th>produtos</th>\n",
       "      <th>temcartcredito</th>\n",
       "      <th>ativo</th>\n",
       "      <th>salario</th>\n",
       "      <th>excliente</th>\n",
       "    </tr>\n",
       "  </thead>\n",
       "  <tbody>\n",
       "    <tr>\n",
       "      <th>0</th>\n",
       "      <td>1</td>\n",
       "      <td>619</td>\n",
       "      <td>RS</td>\n",
       "      <td>Feminino</td>\n",
       "      <td>42</td>\n",
       "      <td>2</td>\n",
       "      <td>0</td>\n",
       "      <td>1</td>\n",
       "      <td>1</td>\n",
       "      <td>1</td>\n",
       "      <td>10134888.0</td>\n",
       "      <td>1</td>\n",
       "    </tr>\n",
       "    <tr>\n",
       "      <th>1</th>\n",
       "      <td>2</td>\n",
       "      <td>608</td>\n",
       "      <td>SC</td>\n",
       "      <td>Feminino</td>\n",
       "      <td>41</td>\n",
       "      <td>1</td>\n",
       "      <td>8380786</td>\n",
       "      <td>1</td>\n",
       "      <td>0</td>\n",
       "      <td>1</td>\n",
       "      <td>11254258.0</td>\n",
       "      <td>0</td>\n",
       "    </tr>\n",
       "    <tr>\n",
       "      <th>2</th>\n",
       "      <td>3</td>\n",
       "      <td>502</td>\n",
       "      <td>RS</td>\n",
       "      <td>Feminino</td>\n",
       "      <td>42</td>\n",
       "      <td>8</td>\n",
       "      <td>1596608</td>\n",
       "      <td>3</td>\n",
       "      <td>1</td>\n",
       "      <td>0</td>\n",
       "      <td>11393157.0</td>\n",
       "      <td>1</td>\n",
       "    </tr>\n",
       "    <tr>\n",
       "      <th>3</th>\n",
       "      <td>4</td>\n",
       "      <td>699</td>\n",
       "      <td>RS</td>\n",
       "      <td>Feminino</td>\n",
       "      <td>39</td>\n",
       "      <td>1</td>\n",
       "      <td>0</td>\n",
       "      <td>2</td>\n",
       "      <td>0</td>\n",
       "      <td>0</td>\n",
       "      <td>9382663.0</td>\n",
       "      <td>0</td>\n",
       "    </tr>\n",
       "    <tr>\n",
       "      <th>4</th>\n",
       "      <td>5</td>\n",
       "      <td>850</td>\n",
       "      <td>SC</td>\n",
       "      <td>Feminino</td>\n",
       "      <td>43</td>\n",
       "      <td>2</td>\n",
       "      <td>12551082</td>\n",
       "      <td>1</td>\n",
       "      <td>1</td>\n",
       "      <td>1</td>\n",
       "      <td>790841.0</td>\n",
       "      <td>0</td>\n",
       "    </tr>\n",
       "  </tbody>\n",
       "</table>\n",
       "</div>"
      ],
      "text/plain": [
       "   id  score estado    genero  idade  patrimonio     saldo  produtos  \\\n",
       "0   1    619     RS  Feminino     42           2         0         1   \n",
       "1   2    608     SC  Feminino     41           1   8380786         1   \n",
       "2   3    502     RS  Feminino     42           8   1596608         3   \n",
       "3   4    699     RS  Feminino     39           1         0         2   \n",
       "4   5    850     SC  Feminino     43           2  12551082         1   \n",
       "\n",
       "   temcartcredito  ativo     salario  excliente  \n",
       "0               1      1  10134888.0          1  \n",
       "1               0      1  11254258.0          0  \n",
       "2               1      0  11393157.0          1  \n",
       "3               0      0   9382663.0          0  \n",
       "4               1      1    790841.0          0  "
      ]
     },
     "execution_count": 4,
     "metadata": {},
     "output_type": "execute_result"
    }
   ],
   "source": [
    "df.columns = [\"id\",\"score\",\"estado\",'genero','idade','patrimonio','saldo','produtos','temcartcredito','ativo','salario','excliente']\n",
    "df.head()"
   ]
  },
  {
   "cell_type": "markdown",
   "id": "f83698cc-6831-4ca3-98f9-04637a239629",
   "metadata": {},
   "source": [
    "Antes de continuar a limpeza, é preciso compreender qual o tipo de dado de cada coluna, para posteriormente tratar de forma separada os dados categóricos e numéricos.\n",
    "Para isso, será retornado o valor info() de todas as colunas."
   ]
  },
  {
   "cell_type": "markdown",
   "id": "6ccd2c3a-e578-40e1-b918-7cb463936b49",
   "metadata": {},
   "source": [
    "### 1.3 Informações Gerais"
   ]
  },
  {
   "cell_type": "markdown",
   "id": "7fba4b48-c5cd-4167-8da6-2a4b70e96c18",
   "metadata": {},
   "source": [
    "Agora, vou avaliar as principais informações sobre os dados, desde os tipos, classes e possíveis problemas que vão exigir limpeza e tratamento. Este processo de conhecer os dados com os quais lidamos, costuma ser subestimado, porém, é de grande relevância e evita muitos problemas futuros."
   ]
  },
  {
   "cell_type": "code",
   "execution_count": 5,
   "id": "41930ae6-6272-48f5-8625-584ac4d80309",
   "metadata": {},
   "outputs": [
    {
     "name": "stdout",
     "output_type": "stream",
     "text": [
      "<class 'pandas.core.frame.DataFrame'>\n",
      "RangeIndex: 999 entries, 0 to 998\n",
      "Data columns (total 12 columns):\n",
      " #   Column          Non-Null Count  Dtype  \n",
      "---  ------          --------------  -----  \n",
      " 0   id              999 non-null    int64  \n",
      " 1   score           999 non-null    int64  \n",
      " 2   estado          999 non-null    object \n",
      " 3   genero          991 non-null    object \n",
      " 4   idade           999 non-null    int64  \n",
      " 5   patrimonio      999 non-null    int64  \n",
      " 6   saldo           999 non-null    int64  \n",
      " 7   produtos        999 non-null    int64  \n",
      " 8   temcartcredito  999 non-null    int64  \n",
      " 9   ativo           999 non-null    int64  \n",
      " 10  salario         992 non-null    float64\n",
      " 11  excliente       999 non-null    int64  \n",
      "dtypes: float64(1), int64(9), object(2)\n",
      "memory usage: 93.8+ KB\n"
     ]
    }
   ],
   "source": [
    "df.info()"
   ]
  },
  {
   "cell_type": "markdown",
   "id": "f0f052f5-3b15-404b-b9d2-823204c6b621",
   "metadata": {},
   "source": [
    "Com as informações de classificação das colunas, a utilização dos dados será mais proveitosa desde a limpeza.\n",
    "\n",
    "**Colunas categóricas:** estado, genero.\n",
    "\n",
    "**Colunas numéricas:** id, score, idade, patrimonio, saldo, produtos, temcartcredito, ativo, salario, excliente.\n",
    "\n",
    "Todas as colunas numéricas têm propriedade _int64_(números inteiros), exceto a coluna salario, que possui valor _float64_(número decimal). Posteriormente isso será tratado.\n",
    "\n",
    "O tratamento será iniciado com as colunas categóricas."
   ]
  },
  {
   "cell_type": "code",
   "execution_count": 6,
   "id": "0a0fd53c-ada8-4a69-a6b2-53bf36484879",
   "metadata": {},
   "outputs": [
    {
     "name": "stdout",
     "output_type": "stream",
     "text": [
      "estado\n",
      "PR    257\n",
      "RP      1\n",
      "RS    478\n",
      "SC    258\n",
      "SP      4\n",
      "TD      1\n",
      "dtype: int64\n"
     ]
    },
    {
     "data": {
      "text/plain": [
       "<Axes: xlabel='estado'>"
      ]
     },
     "execution_count": 6,
     "metadata": {},
     "output_type": "execute_result"
    },
    {
     "data": {
      "image/png": "[encoded data removed]",
      "text/plain": [
       "<Figure size 640x480 with 1 Axes>"
      ]
     },
     "metadata": {},
     "output_type": "display_data"
    }
   ],
   "source": [
    "# Agrupamento dos dados da coluna estado:\n",
    "estado = df.groupby(['estado']).size()\n",
    "# Totais\n",
    "print(estado)\n",
    "# Visualização gráfica\n",
    "estado.plot.bar(color='teal')"
   ]
  },
  {
   "cell_type": "markdown",
   "id": "15afb0f1-28ae-4b8e-94ba-99c353772f7e",
   "metadata": {},
   "source": [
    "O primeiro problema encontrado é a **inconformidade** dos dados, pois \"PR\" (Paraná) aparentemente foi inserido errado pelo usuário na captação desse dado \"RP\". Além disso, a **integridade** também foi ferida, afinal, o estado TD não existe e o estado SP (São Paulo) não fica na região Sul do Brasil, mas sim no Sudeste.\n",
    "\n",
    "Agora, o mesmo processo será realizado com a coluna _genero_:"
   ]
  },
  {
   "cell_type": "code",
   "execution_count": 7,
   "id": "da6cc578-a4f5-42d0-9e91-24f6ee9f87dc",
   "metadata": {},
   "outputs": [
    {
     "name": "stdout",
     "output_type": "stream",
     "text": [
      "genero\n",
      "F              2\n",
      "Fem            1\n",
      "Feminino     461\n",
      "M              6\n",
      "Masculino    521\n",
      "dtype: int64\n"
     ]
    },
    {
     "data": {
      "text/plain": [
       "<Axes: xlabel='genero'>"
      ]
     },
     "execution_count": 7,
     "metadata": {},
     "output_type": "execute_result"
    },
    {
     "data": {
      "image/png": "[encoded data removed]",
      "text/plain": [
       "<Figure size 640x480 with 1 Axes>"
      ]
     },
     "metadata": {},
     "output_type": "display_data"
    }
   ],
   "source": [
    "# Agrupamento dos dados da coluna genero:\n",
    "genero = df.groupby(['genero']).size()\n",
    "# Totais\n",
    "print(genero)\n",
    "# Visualização gráfica\n",
    "genero.plot.bar(color='teal')"
   ]
  },
  {
   "cell_type": "markdown",
   "id": "8e068c20-ab53-49d2-94a6-8ddee012bbee",
   "metadata": {},
   "source": [
    "Também há inconformidade no preenchimento dos gêneros, \"Feminino\", \"F\" e \"Fem\" terão o mesmo valor para o modelo, assim como \"M\" e \"Masculino\". Isso também será tratado posteriormente.\n",
    "\n",
    "Agora, vou verificar as colunas numéricas:"
   ]
  },
  {
   "cell_type": "code",
   "execution_count": 8,
   "id": "7907cff9-d1a3-4838-b54f-ec2bc57bd736",
   "metadata": {},
   "outputs": [
    {
     "data": {
      "text/plain": [
       "count    999.000000\n",
       "mean     648.621622\n",
       "std       98.264219\n",
       "min      376.000000\n",
       "25%      580.000000\n",
       "50%      653.000000\n",
       "75%      721.000000\n",
       "max      850.000000\n",
       "Name: score, dtype: float64"
      ]
     },
     "execution_count": 8,
     "metadata": {},
     "output_type": "execute_result"
    }
   ],
   "source": [
    "# Visualização numérica\n",
    "df['score'].describe()"
   ]
  },
  {
   "cell_type": "code",
   "execution_count": 9,
   "id": "499ac4e9-b01d-43cc-9535-afc214b8cf53",
   "metadata": {},
   "outputs": [
    {
     "data": {
      "text/plain": [
       "<Axes: ylabel='score'>"
      ]
     },
     "execution_count": 9,
     "metadata": {},
     "output_type": "execute_result"
    },
    {
     "data": {
      "image/png": "[encoded data removed]",
      "text/plain": [
       "<Figure size 640x480 with 1 Axes>"
      ]
     },
     "metadata": {},
     "output_type": "display_data"
    }
   ],
   "source": [
    "# Visualização gráfica\n",
    "sns.boxplot(df['score'], color = 'teal', orient='v')"
   ]
  },
  {
   "cell_type": "code",
   "execution_count": 10,
   "id": "8d0c0a31-3f09-467c-baf0-0fbc9e42c811",
   "metadata": {},
   "outputs": [
    {
     "data": {
      "text/plain": [
       "<Axes: xlabel='score', ylabel='Count'>"
      ]
     },
     "execution_count": 10,
     "metadata": {},
     "output_type": "execute_result"
    },
    {
     "data": {
      "image/png": "[encoded data removed]",
      "text/plain": [
       "<Figure size 640x480 with 1 Axes>"
      ]
     },
     "metadata": {},
     "output_type": "display_data"
    }
   ],
   "source": [
    "sns.histplot(df['score'], color = 'teal', kde=True)"
   ]
  },
  {
   "cell_type": "markdown",
   "id": "c754640a-dbe3-497d-ad8b-94c32c0390e4",
   "metadata": {},
   "source": [
    "- A menor pontuação existente é 376 pontos, a maior, 850 pontos.\n",
    "- Há uma distribuição regular entre os dados, \n",
    "- A média (mean) é 648 pontos.\n",
    "- A mediana (50%) é 653 pontos.\n",
    "- Quanto mais próximos os valores de média e mediana, menor a probabilidade de outliers no dataset.\n",
    "\n",
    "Agora, vou visualizar as informações da coluna idade:"
   ]
  },
  {
   "cell_type": "code",
   "execution_count": 11,
   "id": "b5247a9c-2d0c-44bc-99ae-09005c6abf06",
   "metadata": {},
   "outputs": [
    {
     "data": {
      "text/plain": [
       "count    999.000000\n",
       "mean      38.902903\n",
       "std       11.401912\n",
       "min      -20.000000\n",
       "25%       32.000000\n",
       "50%       37.000000\n",
       "75%       44.000000\n",
       "max      140.000000\n",
       "Name: idade, dtype: float64"
      ]
     },
     "execution_count": 11,
     "metadata": {},
     "output_type": "execute_result"
    }
   ],
   "source": [
    "# Visualização numérica\n",
    "df['idade'].describe()"
   ]
  },
  {
   "cell_type": "code",
   "execution_count": 14,
   "id": "67e7f12b-bff7-4234-89b0-07a9ac19beed",
   "metadata": {},
   "outputs": [
    {
     "data": {
      "text/plain": [
       "<Axes: ylabel='idade'>"
      ]
     },
     "execution_count": 14,
     "metadata": {},
     "output_type": "execute_result"
    },
    {
     "data": {
      "image/png": "[encoded data removed]",
      "text/plain": [
       "<Figure size 640x480 with 1 Axes>"
      ]
     },
     "metadata": {},
     "output_type": "display_data"
    }
   ],
   "source": [
    "# Visualização gráfica\n",
    "sns.boxplot(df['idade'], color = 'teal', orient='v')"
   ]
  },
  {
   "cell_type": "code",
   "execution_count": 15,
   "id": "faefc280-d54a-4239-9168-d6fd6454db45",
   "metadata": {},
   "outputs": [
    {
     "data": {
      "text/plain": [
       "<Axes: xlabel='idade', ylabel='Count'>"
      ]
     },
     "execution_count": 15,
     "metadata": {},
     "output_type": "execute_result"
    },
    {
     "data": {
      "image/png": "[encoded data removed]",
      "text/plain": [
       "<Figure size 640x480 with 1 Axes>"
      ]
     },
     "metadata": {},
     "output_type": "display_data"
    }
   ],
   "source": [
    "sns.histplot(df['idade'], color = 'teal', kde=True)"
   ]
  },
  {
   "cell_type": "markdown",
   "id": "ec7cf8a5-186d-448c-a50c-f600b35c7e9e",
   "metadata": {},
   "source": [
    "É possível observar que."
   ]
  }
 ],
 "metadata": {
  "kernelspec": {
   "display_name": "Python 3 (ipykernel)",
   "language": "python",
   "name": "python3"
  },
  "language_info": {
   "codemirror_mode": {
    "name": "ipython",
    "version": 3
   },
   "file_extension": ".py",
   "mimetype": "text/x-python",
   "name": "python",
   "nbconvert_exporter": "python",
   "pygments_lexer": "ipython3",
   "version": "3.12.8"
  }
 },
 "nbformat": 4,
 "nbformat_minor": 5
}
